{
 "cells": [
  {
   "cell_type": "markdown",
   "metadata": {},
   "source": [
    "# Import Libraries"
   ]
  },
  {
   "cell_type": "code",
   "execution_count": 1,
   "metadata": {},
   "outputs": [
    {
     "name": "stderr",
     "output_type": "stream",
     "text": [
      "C:\\Users\\nazli\\AppData\\Local\\Continuum\\anaconda3\\lib\\site-packages\\sklearn\\ensemble\\weight_boosting.py:29: DeprecationWarning: numpy.core.umath_tests is an internal NumPy module and should not be imported. It will be removed in a future NumPy release.\n",
      "  from numpy.core.umath_tests import inner1d\n"
     ]
    }
   ],
   "source": [
    "import numpy as np\n",
    "import pandas as pd\n",
    "import matplotlib.pyplot as plt\n",
    "import seaborn as sns\n",
    "from sklearn.preprocessing import LabelEncoder, OneHotEncoder, MinMaxScaler, StandardScaler, RobustScaler\n",
    "from sklearn import preprocessing\n",
    "from sklearn.decomposition import PCA\n",
    "from imblearn.under_sampling import NearMiss\n",
    "from sklearn.cluster import KMeans\n",
    "from sklearn import metrics\n",
    "from sklearn.model_selection import RandomizedSearchCV,GridSearchCV\n",
    "from sklearn.ensemble import RandomForestClassifier\n",
    "from sklearn.metrics import classification_report\n",
    "from sklearn.metrics import recall_score\n",
    "from sklearn.model_selection import train_test_split\n",
    "from sklearn.metrics import confusion_matrix,accuracy_score,precision_recall_fscore_support\n",
    "from sklearn.metrics import roc_curve, auc\n",
    "from sklearn.svm import SVC"
   ]
  },
  {
   "cell_type": "markdown",
   "metadata": {},
   "source": [
    "# Load Data"
   ]
  },
  {
   "cell_type": "code",
   "execution_count": 2,
   "metadata": {},
   "outputs": [
    {
     "name": "stderr",
     "output_type": "stream",
     "text": [
      "C:\\Users\\nazli\\AppData\\Local\\Continuum\\anaconda3\\lib\\site-packages\\IPython\\core\\interactiveshell.py:3020: DtypeWarning: Columns (14) have mixed types. Specify dtype option on import or set low_memory=False.\n",
      "  interactivity=interactivity, compiler=compiler, result=result)\n"
     ]
    }
   ],
   "source": [
    "Attack_data=pd.read_csv('s3://attackproof/Attack_data.csv')"
   ]
  },
  {
   "cell_type": "code",
   "execution_count": 3,
   "metadata": {},
   "outputs": [
    {
     "name": "stdout",
     "output_type": "stream",
     "text": [
      "(2300825, 79)\n"
     ]
    }
   ],
   "source": [
    "print(Attack_data.shape)"
   ]
  },
  {
   "cell_type": "code",
   "execution_count": 3,
   "metadata": {},
   "outputs": [
    {
     "name": "stdout",
     "output_type": "stream",
     "text": [
      "Normal           75.763215\n",
      "DoS              16.546195\n",
      "Port_Scan         6.907522\n",
      "Brute_Force       0.601306\n",
      "Web_attack        0.094749\n",
      "Botnet            0.085448\n",
      "infilteration     0.001565\n",
      "Name:  Label, dtype: float64\n"
     ]
    }
   ],
   "source": [
    "print(Attack_data[' Label'].value_counts(normalize=True) * 100)"
   ]
  },
  {
   "cell_type": "code",
   "execution_count": 4,
   "metadata": {},
   "outputs": [
    {
     "name": "stdout",
     "output_type": "stream",
     "text": [
      "Normal           1743179\n",
      "DoS               380699\n",
      "Port_Scan         158930\n",
      "Brute_Force        13835\n",
      "Web_attack          2180\n",
      "Botnet              1966\n",
      "infilteration         36\n",
      "Name:  Label, dtype: int64\n"
     ]
    }
   ],
   "source": [
    "print(Attack_data[' Label'].value_counts())"
   ]
  },
  {
   "cell_type": "markdown",
   "metadata": {},
   "source": [
    "# Drop Duplicate Values"
   ]
  },
  {
   "cell_type": "code",
   "execution_count": 5,
   "metadata": {},
   "outputs": [],
   "source": [
    "Attack_data=Attack_data.drop_duplicates()"
   ]
  },
  {
   "cell_type": "markdown",
   "metadata": {},
   "source": [
    "# Drop Null and INF"
   ]
  },
  {
   "cell_type": "code",
   "execution_count": 6,
   "metadata": {},
   "outputs": [
    {
     "name": "stdout",
     "output_type": "stream",
     "text": [
      " Destination Port                 0\n",
      " Flow Duration                    0\n",
      " Total Fwd Packets                0\n",
      " Total Backward Packets           0\n",
      "Total Length of Fwd Packets       0\n",
      " Total Length of Bwd Packets      0\n",
      " Fwd Packet Length Max            0\n",
      " Fwd Packet Length Min            0\n",
      " Fwd Packet Length Mean           0\n",
      " Fwd Packet Length Std            0\n",
      "Bwd Packet Length Max             0\n",
      " Bwd Packet Length Min            0\n",
      " Bwd Packet Length Mean           0\n",
      " Bwd Packet Length Std            0\n",
      "Flow Bytes/s                    302\n",
      " Flow Packets/s                   0\n",
      " Flow IAT Mean                    0\n",
      " Flow IAT Std                     0\n",
      " Flow IAT Max                     0\n",
      " Flow IAT Min                     0\n",
      "Fwd IAT Total                     0\n",
      " Fwd IAT Mean                     0\n",
      " Fwd IAT Std                      0\n",
      " Fwd IAT Max                      0\n",
      " Fwd IAT Min                      0\n",
      "Bwd IAT Total                     0\n",
      " Bwd IAT Mean                     0\n",
      " Bwd IAT Std                      0\n",
      " Bwd IAT Max                      0\n",
      " Bwd IAT Min                      0\n",
      "                               ... \n",
      " CWE Flag Count                   0\n",
      " ECE Flag Count                   0\n",
      " Down/Up Ratio                    0\n",
      " Average Packet Size              0\n",
      " Avg Fwd Segment Size             0\n",
      " Avg Bwd Segment Size             0\n",
      " Fwd Header Length.1              0\n",
      "Fwd Avg Bytes/Bulk                0\n",
      " Fwd Avg Packets/Bulk             0\n",
      " Fwd Avg Bulk Rate                0\n",
      " Bwd Avg Bytes/Bulk               0\n",
      " Bwd Avg Packets/Bulk             0\n",
      "Bwd Avg Bulk Rate                 0\n",
      "Subflow Fwd Packets               0\n",
      " Subflow Fwd Bytes                0\n",
      " Subflow Bwd Packets              0\n",
      " Subflow Bwd Bytes                0\n",
      "Init_Win_bytes_forward            0\n",
      " Init_Win_bytes_backward          0\n",
      " act_data_pkt_fwd                 0\n",
      " min_seg_size_forward             0\n",
      "Active Mean                       0\n",
      " Active Std                       0\n",
      " Active Max                       0\n",
      " Active Min                       0\n",
      "Idle Mean                         0\n",
      " Idle Std                         0\n",
      " Idle Max                         0\n",
      " Idle Min                         0\n",
      " Label                            0\n",
      "Length: 79, dtype: int64\n"
     ]
    }
   ],
   "source": [
    "NaN_values=Attack_data.isnull().sum()\n",
    "null=Attack_data.columns[Attack_data.isnull().any()]\n",
    "print(NaN_values)"
   ]
  },
  {
   "cell_type": "code",
   "execution_count": 7,
   "metadata": {},
   "outputs": [],
   "source": [
    "inf_flowbyte=Attack_data.drop(Attack_data.index[Attack_data['Flow Bytes/s'] == 'Infinity'])\n",
    "inf_flowpacket=Attack_data.drop(Attack_data.index[Attack_data[' Flow Packets/s'] == 'Infinity'])\n",
    "inf_flowbyte['Flow Bytes/s']=inf_flowbyte['Flow Bytes/s'].astype('float64')\n",
    "inf_flowpacket[' Flow Packets/s']=inf_flowpacket[' Flow Packets/s'].astype('float64')"
   ]
  },
  {
   "cell_type": "code",
   "execution_count": 8,
   "metadata": {},
   "outputs": [],
   "source": [
    "Max_flowbyte=np.max(inf_flowbyte['Flow Bytes/s'])\n",
    "Mean_flowbyte=np.mean(inf_flowbyte['Flow Bytes/s'])\n",
    "Max_flowpacket=np.max(inf_flowpacket[' Flow Packets/s'])"
   ]
  },
  {
   "cell_type": "code",
   "execution_count": 9,
   "metadata": {},
   "outputs": [],
   "source": [
    "Attack_data['Flow Bytes/s'].replace('Infinity',Max_flowbyte,inplace=True)\n",
    "Attack_data['Flow Bytes/s'].fillna(Mean_flowbyte,inplace=True)\n",
    "Attack_data[' Flow Packets/s'].replace('Infinity',Max_flowpacket,inplace=True)"
   ]
  },
  {
   "cell_type": "code",
   "execution_count": 10,
   "metadata": {},
   "outputs": [
    {
     "name": "stdout",
     "output_type": "stream",
     "text": [
      "[dtype('int64') dtype('float64') dtype('O')]\n"
     ]
    }
   ],
   "source": [
    "print(Attack_data.dtypes.unique())"
   ]
  },
  {
   "cell_type": "markdown",
   "metadata": {},
   "source": [
    "# Label Encoder"
   ]
  },
  {
   "cell_type": "code",
   "execution_count": 11,
   "metadata": {},
   "outputs": [],
   "source": [
    "Attack_data['Int_Label'] = Attack_data[' Label'].copy()"
   ]
  },
  {
   "cell_type": "code",
   "execution_count": 12,
   "metadata": {},
   "outputs": [],
   "source": [
    "le = preprocessing.LabelEncoder()\n",
    "Attack_data['Int_Label'] = le.fit_transform(Attack_data.Int_Label.values)"
   ]
  },
  {
   "cell_type": "code",
   "execution_count": 13,
   "metadata": {},
   "outputs": [
    {
     "name": "stdout",
     "output_type": "stream",
     "text": [
      "{'Botnet': 0, 'Brute_Force': 1, 'DoS': 2, 'Normal': 3, 'Port_Scan': 4, 'Web_attack': 5, 'infilteration': 6}\n"
     ]
    }
   ],
   "source": [
    "le_name_mapping = dict(zip(le.classes_, le.transform(le.classes_)))\n",
    "print(le_name_mapping)"
   ]
  },
  {
   "cell_type": "markdown",
   "metadata": {},
   "source": [
    "# Scale"
   ]
  },
  {
   "cell_type": "code",
   "execution_count": 14,
   "metadata": {},
   "outputs": [
    {
     "name": "stdout",
     "output_type": "stream",
     "text": [
      "        Destination Port   Flow Duration   Total Fwd Packets  \\\n",
      "count       2.033155e+06    2.033155e+06        2.033155e+06   \n",
      "mean        1.227865e-01    1.489166e-01        4.367764e-05   \n",
      "std         2.772809e-01    3.025185e-01        3.645944e-03   \n",
      "min         0.000000e+00    0.000000e+00        0.000000e+00   \n",
      "25%         8.087528e-04    1.850000e-06        4.808548e-06   \n",
      "50%         1.220759e-03    4.503500e-04        4.808548e-06   \n",
      "75%         6.759953e-03    4.754922e-02        2.404274e-05   \n",
      "max         1.000000e+00    1.000000e+00        1.000000e+00   \n",
      "\n",
      "        Total Backward Packets  Total Length of Fwd Packets  \\\n",
      "count             2.033155e+06                 2.033155e+06   \n",
      "mean              3.994260e-05                 4.816364e-05   \n",
      "std               3.559411e-03                 8.800916e-04   \n",
      "min               0.000000e+00                 0.000000e+00   \n",
      "25%               3.513679e-06                 9.302326e-07   \n",
      "50%               7.027358e-06                 5.116279e-06   \n",
      "75%               1.756839e-05                 2.558140e-05   \n",
      "max               1.000000e+00                 1.000000e+00   \n",
      "\n",
      "        Total Length of Bwd Packets   Fwd Packet Length Max  \\\n",
      "count                  2.033155e+06            2.033155e+06   \n",
      "mean                   2.844169e-05            9.566220e-03   \n",
      "std                    3.659581e-03            3.266444e-02   \n",
      "min                    0.000000e+00            0.000000e+00   \n",
      "25%                    9.569378e-09            2.417405e-04   \n",
      "50%                    2.456140e-07            1.571313e-03   \n",
      "75%                    3.177033e-06            8.259468e-03   \n",
      "max                    1.000000e+00            1.000000e+00   \n",
      "\n",
      "        Fwd Packet Length Min   Fwd Packet Length Mean  \\\n",
      "count            2.033155e+06             2.033155e+06   \n",
      "mean             8.173678e-03             1.110956e-02   \n",
      "std              2.813870e-02             3.579960e-02   \n",
      "min              0.000000e+00             0.000000e+00   \n",
      "25%              0.000000e+00             1.009955e-03   \n",
      "50%              8.602151e-04             6.059732e-03   \n",
      "75%              1.548387e-02             8.728899e-03   \n",
      "max              1.000000e+00             1.000000e+00   \n",
      "\n",
      "        Fwd Packet Length Std      ...        act_data_pkt_fwd  \\\n",
      "count            2.033155e+06      ...            2.033155e+06   \n",
      "mean             1.147738e-02      ...            2.788568e-05   \n",
      "std              4.567851e-02      ...            3.082202e-03   \n",
      "min              0.000000e+00      ...            0.000000e+00   \n",
      "25%              0.000000e+00      ...            0.000000e+00   \n",
      "50%              0.000000e+00      ...            5.034334e-06   \n",
      "75%              1.066087e-02      ...            1.510300e-05   \n",
      "max              1.000000e+00      ...            1.000000e+00   \n",
      "\n",
      "        min_seg_size_forward   Active Mean    Active Std    Active Max  \\\n",
      "count           2.033155e+06  2.033155e+06  2.033155e+06  2.033155e+06   \n",
      "mean            9.999944e-01  8.700584e-04  6.200276e-04  1.594366e-03   \n",
      "std             2.326001e-03  6.394161e-03  5.623339e-03  9.899373e-03   \n",
      "min             0.000000e+00  0.000000e+00  0.000000e+00  0.000000e+00   \n",
      "25%             9.999998e-01  0.000000e+00  0.000000e+00  0.000000e+00   \n",
      "50%             9.999998e-01  0.000000e+00  0.000000e+00  0.000000e+00   \n",
      "75%             9.999998e-01  0.000000e+00  0.000000e+00  0.000000e+00   \n",
      "max             1.000000e+00  1.000000e+00  1.000000e+00  1.000000e+00   \n",
      "\n",
      "         Active Min     Idle Mean      Idle Std      Idle Max      Idle Min  \n",
      "count  2.033155e+06  2.033155e+06  2.033155e+06  2.033155e+06  2.033155e+06  \n",
      "mean   6.340710e-04  8.895262e-02  8.436066e-03  9.301781e-02  8.477035e-02  \n",
      "std    5.735595e-03  2.224731e-01  6.904758e-02  2.292819e-01  2.202763e-01  \n",
      "min    0.000000e+00  0.000000e+00  0.000000e+00  0.000000e+00  0.000000e+00  \n",
      "25%    0.000000e+00  0.000000e+00  0.000000e+00  0.000000e+00  0.000000e+00  \n",
      "50%    0.000000e+00  0.000000e+00  0.000000e+00  0.000000e+00  0.000000e+00  \n",
      "75%    0.000000e+00  0.000000e+00  0.000000e+00  0.000000e+00  0.000000e+00  \n",
      "max    1.000000e+00  1.000000e+00  1.000000e+00  1.000000e+00  1.000000e+00  \n",
      "\n",
      "[8 rows x 78 columns]\n"
     ]
    }
   ],
   "source": [
    "X =Attack_data.drop([' Label','Int_Label'],axis=1) \n",
    "scaler=MinMaxScaler()\n",
    "Attack_data_Scale=pd.DataFrame(scaler.fit_transform(X),columns=X.columns)\n",
    "print(Attack_data_Scale.describe())"
   ]
  },
  {
   "cell_type": "code",
   "execution_count": 15,
   "metadata": {},
   "outputs": [
    {
     "name": "stderr",
     "output_type": "stream",
     "text": [
      "C:\\Users\\nazli\\AppData\\Local\\Continuum\\anaconda3\\lib\\site-packages\\scipy\\stats\\stats.py:1713: FutureWarning: Using a non-tuple sequence for multidimensional indexing is deprecated; use `arr[tuple(seq)]` instead of `arr[seq]`. In the future this will be interpreted as an array index, `arr[np.array(seq)]`, which will result either in an error or a different result.\n",
      "  return np.add.reduce(sorted[indexer] * weights, axis=axis) / sumval\n"
     ]
    },
    {
     "data": {
      "text/plain": [
       "<matplotlib.axes._subplots.AxesSubplot at 0x21f66d01b70>"
      ]
     },
     "execution_count": 15,
     "metadata": {},
     "output_type": "execute_result"
    },
    {
     "data": {
      "image/png": "[encoded data removed]",
      "text/plain": [
       "<Figure size 1080x360 with 2 Axes>"
      ]
     },
     "metadata": {
      "needs_background": "light"
     },
     "output_type": "display_data"
    }
   ],
   "source": [
    "fig, (ax1, ax2) = plt.subplots(ncols=2, figsize=(15, 5))\n",
    "\n",
    "ax1.set_title('Before Scaling')\n",
    "sns.kdeplot(Attack_data[' Total Fwd Packets'], ax=ax1)\n",
    "sns.kdeplot(Attack_data[' Total Backward Packets'], ax=ax1)\n",
    "sns.kdeplot(Attack_data['Total Length of Fwd Packets'], ax=ax1)\n",
    "sns.kdeplot(Attack_data[' Total Length of Bwd Packets'], ax=ax1)\n",
    "sns.kdeplot(Attack_data[' Fwd Packet Length Max'], ax=ax1)\n",
    "sns.kdeplot(Attack_data['Flow Bytes/s'], ax=ax1)\n",
    "sns.kdeplot(Attack_data[' Flow Packets/s'], ax=ax1)\n",
    "\n",
    "ax2.set_title('After Scaling')\n",
    "sns.kdeplot(Attack_data_Scale[' Total Fwd Packets'], ax=ax2)\n",
    "sns.kdeplot(Attack_data_Scale[' Total Backward Packets'], ax=ax2)\n",
    "sns.kdeplot(Attack_data_Scale['Total Length of Fwd Packets'], ax=ax2)\n",
    "sns.kdeplot(Attack_data_Scale[' Total Length of Bwd Packets'], ax=ax2)\n",
    "sns.kdeplot(Attack_data_Scale[' Fwd Packet Length Max'], ax=ax2)\n",
    "sns.kdeplot(Attack_data_Scale['Flow Bytes/s'], ax=ax2)\n",
    "sns.kdeplot(Attack_data_Scale[' Flow Packets/s'], ax=ax2)\n",
    "sns.kdeplot(Attack_data_Scale['Flow Bytes/s'], ax=ax2)\n",
    "sns.kdeplot(Attack_data_Scale[' Flow Packets/s'], ax=ax2)"
   ]
  },
  {
   "cell_type": "markdown",
   "metadata": {},
   "source": [
    "# Imbalance"
   ]
  },
  {
   "cell_type": "code",
   "execution_count": 16,
   "metadata": {},
   "outputs": [],
   "source": [
    "Attack_data_Scale_TDF=pd.concat([Attack_data_Scale, Attack_data[[' Label']]], axis = 1)\n",
    "Attack_data_Scale_TDF2=pd.concat([Attack_data_Scale_TDF, Attack_data[['Int_Label']]], axis = 1)"
   ]
  },
  {
   "cell_type": "code",
   "execution_count": 17,
   "metadata": {},
   "outputs": [
    {
     "name": "stdout",
     "output_type": "stream",
     "text": [
      "percentage of normal transacation is 70.96099517500292\n",
      "percentage of fraud transacation 29.03900482499707\n"
     ]
    }
   ],
   "source": [
    "Count_Normal_transacation = len(Attack_data_Scale_TDF2[Attack_data_Scale_TDF2[\"Int_Label\"]==3]) # normal transaction are repersented by 0\n",
    "Count_Fraud_transacation = len(Attack_data_Scale_TDF2[Attack_data_Scale_TDF2[\"Int_Label\"]!=3]) # fraud by 1\n",
    "Percentage_of_Normal_transacation = Count_Normal_transacation/(Count_Normal_transacation+Count_Fraud_transacation)\n",
    "print(\"percentage of normal transacation is\",Percentage_of_Normal_transacation*100)\n",
    "Percentage_of_Fraud_transacation= Count_Fraud_transacation/(Count_Normal_transacation+Count_Fraud_transacation)\n",
    "print(\"percentage of fraud transacation\",Percentage_of_Fraud_transacation*100)"
   ]
  },
  {
   "cell_type": "code",
   "execution_count": 16,
   "metadata": {},
   "outputs": [
    {
     "data": {
      "text/plain": [
       "RandomForestClassifier(bootstrap=False, class_weight=None, criterion='gini',\n",
       "            max_depth=80, max_features='auto', max_leaf_nodes=None,\n",
       "            min_impurity_decrease=0.0, min_impurity_split=None,\n",
       "            min_samples_leaf=1, min_samples_split=10,\n",
       "            min_weight_fraction_leaf=0.0, n_estimators=1000, n_jobs=1,\n",
       "            oob_score=False, random_state=None, verbose=0,\n",
       "            warm_start=False)"
      ]
     },
     "execution_count": 16,
     "metadata": {},
     "output_type": "execute_result"
    }
   ],
   "source": [
    "fd=X_train\n",
    "rf_F = RandomForestClassifier(n_estimators=1000,\n",
    "                   max_depth= 80,\n",
    "                   min_samples_split= 10,\n",
    "                   min_samples_leaf= 1,\n",
    "                   bootstrap= False)\n",
    "rf_F.fit(fd, y_train)"
   ]
  },
  {
   "cell_type": "code",
   "execution_count": 20,
   "metadata": {},
   "outputs": [
    {
     "data": {
      "text/plain": [
       "['Attack_model.sav']"
      ]
     },
     "execution_count": 20,
     "metadata": {},
     "output_type": "execute_result"
    }
   ],
   "source": [
    "from sklearn.externals import joblib\n",
    "filename = 'Attack_model.sav'\n",
    "joblib.dump(rf_F, filename)"
   ]
  },
  {
   "cell_type": "code",
   "execution_count": 19,
   "metadata": {},
   "outputs": [
    {
     "name": "stdout",
     "output_type": "stream",
     "text": [
      "Predicted    0       1     2    3      4      5  6\n",
      "Actual                                            \n",
      "0          636      20     0    0      1      5  0\n",
      "1            1  480339     0   67     80    304  0\n",
      "2            1       1  2861    0      0      0  0\n",
      "3            0     135     0  457      0      0  0\n",
      "4            3     164     0    0  96764      0  0\n",
      "5            3     264     0    0      7  27826  0\n",
      "6            0       3     0    0      0      0  5\n"
     ]
    }
   ],
   "source": [
    "# Predicting the Test set results\n",
    "y_pred = rf_F.predict(X_test)\n",
    "#Reverse factorize (converting y_pred from 0s,1s and 2s to Iris-setosa, Iris-versicolor and Iris-virginica\n",
    "reversefactor = dict(zip(range(7),definitions))\n",
    "y_test = np.vectorize(reversefactor.get)(y_test)\n",
    "y_pred = np.vectorize(reversefactor.get)(y_pred)\n",
    "# Making the Confusion Matrix\n",
    "print(pd.crosstab(y_test, y_pred, rownames=['Actual'], colnames=['Predicted']))"
   ]
  }
 ],
 "metadata": {
  "kernelspec": {
   "display_name": "Python 3",
   "language": "python",
   "name": "python3"
  },
  "language_info": {
   "codemirror_mode": {
    "name": "ipython",
    "version": 3
   },
   "file_extension": ".py",
   "mimetype": "text/x-python",
   "name": "python",
   "nbconvert_exporter": "python",
   "pygments_lexer": "ipython3",
   "version": "3.7.1"
  }
 },
 "nbformat": 4,
 "nbformat_minor": 2
}
